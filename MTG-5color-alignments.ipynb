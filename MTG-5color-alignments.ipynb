{
 "cells": [
  {
   "cell_type": "code",
   "execution_count": 40,
   "id": "54ed6de0",
   "metadata": {},
   "outputs": [],
   "source": [
    "#Recreated the five handmade single color charts from:\n",
    "\n",
    "#https://loreleywrites.tumblr.com/post/112879602469/color-pie-friday-aligning-the-colors\n",
    "\n",
    "#Added the five friend pairs, and the five enemy pairs"
   ]
  },
  {
   "cell_type": "code",
   "execution_count": 1,
   "id": "527c7d03",
   "metadata": {},
   "outputs": [],
   "source": [
    "color_relats = {'w': {'x': ['w', 'g', 'r'], 'y': ['w', 'u', 'b']},\n",
    "               'u': {'x': ['u', 'w', 'g'], 'y': ['u', 'b', 'r']},\n",
    "               'b': {'x': ['b', 'u', 'w'], 'y': ['b', 'r', 'g']},\n",
    "               'r': {'x': ['r', 'b', 'u'], 'y': ['r', 'g', 'w']},\n",
    "               'g': {'x': ['g', 'r', 'b'], 'y': ['g', 'w', 'u']}}\n",
    "opposites_sub = {'w': ['lawful-n-chaotic', 'good-n-evil'], 'u': ['progresv-n-consrvtv', 'logical-n-rash'], 'b': ['indep-n-subord', 'amitious-n-complacnt'], 'r': ['liberatd-n-fetterd', 'proactv-n-inactv'], 'g': ['humble-n-vain', 'honest-n-manipultv']}\n",
    "two_color_sub2 = {'w-u': ['lawful-n-chaotic', 'logical-n-rash'], 'u-b': ['prgrsv-n-cnsrvtv', 'ambitius-n-complacnt'], 'b-r': ['indpndnt-n-subordnt', 'liberatd-n-fetterd'], 'r-g': ['proactv-n-inactv', 'honest-n-manipultv'], 'g-w': ['humble-n-vain', 'good-n-evil']}\n",
    "two_color_sub_e = {'u-g': ['valTrut-n-apathy', 'seekTrut-n-ignornc'], 'b-w': ['discipln-n-disobey', 'strength-n-weaknes'], 'r-u': ['innovatv-n-derivatv', 'interestng-n-dull'], 'g-b': ['flexibl-n-rigid', 'aware-n-delusionl'], 'w-r': ['brave-n-cowrdly', 'honorbl-n-dishonrbl']}\n",
    "color_dict = {\"words_w\":\"lightgray\",\"words_u\":\"lightblue\",\"words_b\":\"gray\",\"words_r\":\"pink\",\"words_g\":\"lightgreen\",\"words_wu\":\"lightblue\",\"words_ub\":\"lightblue\",\"words_br\":\"pink\",\"words_rg\":\"lightgreen\",\"words_gw\":\"lightgreen\",\"words_ug\":\"lightblue\",\"words_bw\":\"lightgray\",\"words_ru\":\"lightblue\",\"words_gb\":\"lightgreen\",\"words_wr\":\"pink\"}"
   ]
  },
  {
   "cell_type": "code",
   "execution_count": 42,
   "id": "8e469a4d",
   "metadata": {},
   "outputs": [],
   "source": [
    "def make_grid(base):\n",
    "    grid = []\n",
    "    for j in range(3):\n",
    "        grid_row = []\n",
    "        grid_row = opposites_sub[base][0].split('-')\n",
    "        for i in range(3):\n",
    "            grid_row[i] += f\"-{opposites_sub[base][1].split('-')[j]}\"\n",
    "        rows_base = color_relats[base]['y'][j]\n",
    "        for k in range(3):\n",
    "            grid_row[k] += f\" {color_relats[base]['x'][k]}-{rows_base}\"\n",
    "        grid.append(grid_row)\n",
    "    return grid\n",
    "#     for i in range(3):\n",
    "#         print(grid[i])"
   ]
  },
  {
   "cell_type": "code",
   "execution_count": 43,
   "id": "1132cc3f",
   "metadata": {},
   "outputs": [],
   "source": [
    "words_w = make_grid('w')\n",
    "words_u = make_grid('u')\n",
    "words_b = make_grid('b')\n",
    "words_r = make_grid('r')\n",
    "words_g = make_grid('g')"
   ]
  },
  {
   "cell_type": "code",
   "execution_count": 44,
   "id": "125e9a67",
   "metadata": {},
   "outputs": [],
   "source": [
    "def make_2_grid(base1, base2):\n",
    "    base = base1 + '-' + base2\n",
    "    grid = []\n",
    "    for j in range(3):\n",
    "        grid_row = []\n",
    "        grid_row = two_color_sub2[base][0].split('-')\n",
    "        for i in range(3):\n",
    "            grid_row[i] += f\"-{two_color_sub2[base][1].split('-')[j]}\"\n",
    "        rows_base = color_relats[base2]['y'][j]\n",
    "        for k in range(3):\n",
    "            grid_row[k] += f\" {color_relats[base1]['x'][k]}-{rows_base}\"\n",
    "        grid.append(grid_row)\n",
    "    return grid\n",
    "#     for i in range(3):\n",
    "#         print(grid[i])"
   ]
  },
  {
   "cell_type": "code",
   "execution_count": 45,
   "id": "5d12c0eb",
   "metadata": {},
   "outputs": [],
   "source": [
    "words_wu = make_2_grid('w', 'u')\n",
    "words_ub = make_2_grid('u', 'b')\n",
    "words_br = make_2_grid('b', 'r')\n",
    "words_rg = make_2_grid('r', 'g')\n",
    "words_gw = make_2_grid('g', 'w')"
   ]
  },
  {
   "cell_type": "code",
   "execution_count": 46,
   "id": "78564531",
   "metadata": {},
   "outputs": [],
   "source": [
    "def make_2_grid_e(base1, base2):\n",
    "    base = base1 + '-' + base2\n",
    "    grid = []\n",
    "    grid_row = []\n",
    "    grid_row = two_color_sub_e[base][0].split('-')\n",
    "    for i in range(3):\n",
    "        grid_row[i] += f\"-{two_color_sub_e[base][1].split('-')[0]}\"\n",
    "    rows_base1 = color_relats[base1]['x'][0]\n",
    "    rows_base2 = color_relats[base2]['y'][0]\n",
    "    grid_row[0] += f\" {rows_base1}{rows_base2}\"\n",
    "    grid_row[1] += f\" {color_relats[base1]['x'][1]}-{rows_base1}{rows_base2}\"\n",
    "    grid_row[2] += f\" {color_relats[base2]['x'][2]}-{rows_base1}{rows_base2}\"\n",
    "    grid.append(grid_row)\n",
    "\n",
    "    grid_row = []\n",
    "    grid_row = two_color_sub_e[base][0].split('-')\n",
    "    for i in range(3):\n",
    "        grid_row[i] += f\"-{two_color_sub_e[base][1].split('-')[1]}\"\n",
    "    rows_base1 = color_relats[base1]['x'][1]\n",
    "    rows_base2 = color_relats[base2]['y'][0]\n",
    "    grid_row[0] += f\" {base1}{rows_base2}-{color_relats[base1]['x'][1]}\"\n",
    "    grid_row[1] += f\" {color_relats[base1]['x'][1]}-{color_relats[base2]['y'][1]}\"\n",
    "    grid_row[2] += f\" {color_relats[base2]['x'][2]}-{rows_base1}\"\n",
    "    grid.append(grid_row)\n",
    "\n",
    "    grid_row = []\n",
    "    grid_row = two_color_sub_e[base][0].split('-')\n",
    "    for i in range(3):\n",
    "        grid_row[i] += f\"-{two_color_sub_e[base][1].split('-')[2]}\"\n",
    "    rows_base1 = color_relats[base1]['x'][0]\n",
    "    rows_base2 = color_relats[base2]['y'][1]\n",
    "    grid_row[0] += f\" {color_relats[base1]['x'][0]}{color_relats[base2]['y'][0]}-{color_relats[base2]['x'][1]}\"\n",
    "    grid_row[1] += f\" {color_relats[base1]['x'][1]}-{color_relats[base2]['x'][1]}\"\n",
    "    grid_row[2] += f\" {color_relats[base1]['y'][1]}-{color_relats[base2]['x'][1]}\"\n",
    "    grid.append(grid_row)\n",
    "    return grid\n",
    "#     for i in range(3):\n",
    "#         print(grid[i])"
   ]
  },
  {
   "cell_type": "code",
   "execution_count": 47,
   "id": "962deb58",
   "metadata": {},
   "outputs": [],
   "source": [
    "words_ug = make_2_grid_e('u', 'g')\n",
    "words_bw = make_2_grid_e('b', 'w')\n",
    "words_ru = make_2_grid_e('r', 'u')\n",
    "words_gb = make_2_grid_e('g', 'b')\n",
    "words_wr = make_2_grid_e('w', 'r')"
   ]
  },
  {
   "cell_type": "code",
   "execution_count": 48,
   "id": "ba2b1a6d",
   "metadata": {},
   "outputs": [],
   "source": [
    "from ipywidgets import Button, HBox, VBox"
   ]
  },
  {
   "cell_type": "code",
   "execution_count": 49,
   "id": "5c9ed498",
   "metadata": {},
   "outputs": [],
   "source": [
    "def gen_chart(words_mat, color):\n",
    "    items = []\n",
    "    for i in range(3):\n",
    "        for j in range(3):\n",
    "            items.append(Button(description=words_mat[i][j]))\n",
    "    for i in items:\n",
    "        i.style.button_color = color\n",
    "    boxes = []\n",
    "    i = 0\n",
    "    while i < 3:\n",
    "        boxes.append(VBox([items[i], items[i+3], items[i+6]]))\n",
    "        i += 1\n",
    "    chart = HBox([boxes[0], boxes[1], boxes[2]])\n",
    "    return chart"
   ]
  },
  {
   "cell_type": "code",
   "execution_count": 50,
   "id": "74f21f44",
   "metadata": {},
   "outputs": [],
   "source": [
    "def display(chart, name):\n",
    "    print(f\"*{name}* perspective alignment chart\")\n",
    "    return chart"
   ]
  },
  {
   "cell_type": "code",
   "execution_count": 51,
   "id": "d8d5cc47",
   "metadata": {},
   "outputs": [
    {
     "name": "stdout",
     "output_type": "stream",
     "text": [
      "*WHITE* perspective alignment chart\n"
     ]
    },
    {
     "data": {
      "application/vnd.jupyter.widget-view+json": {
       "model_id": "7d96bb79428c4511b09a3e9a21a5516e",
       "version_major": 2,
       "version_minor": 0
      },
      "text/plain": [
       "HBox(children=(VBox(children=(Button(description='lawful-good w-w', style=ButtonStyle(button_color='lightgray'…"
      ]
     },
     "metadata": {},
     "output_type": "display_data"
    }
   ],
   "source": [
    "w_w = gen_chart(words_w, color_dict[\"words_w\"])\n",
    "display(w_w, \"WHITE\")"
   ]
  },
  {
   "cell_type": "code",
   "execution_count": 52,
   "id": "4a025c32",
   "metadata": {},
   "outputs": [
    {
     "name": "stdout",
     "output_type": "stream",
     "text": [
      "*BLUE* perspective alignment chart\n"
     ]
    },
    {
     "data": {
      "application/vnd.jupyter.widget-view+json": {
       "model_id": "2967647facdc4ae2a19607a4e5489ae7",
       "version_major": 2,
       "version_minor": 0
      },
      "text/plain": [
       "HBox(children=(VBox(children=(Button(description='progresv-logical u-u', style=ButtonStyle(button_color='light…"
      ]
     },
     "metadata": {},
     "output_type": "display_data"
    }
   ],
   "source": [
    "w_u = gen_chart(words_u, color_dict[\"words_u\"])\n",
    "display(w_u, \"BLUE\")"
   ]
  },
  {
   "cell_type": "code",
   "execution_count": 53,
   "id": "e7d07dae",
   "metadata": {},
   "outputs": [
    {
     "name": "stdout",
     "output_type": "stream",
     "text": [
      "*BLACK* perspective alignment chart\n"
     ]
    },
    {
     "data": {
      "application/vnd.jupyter.widget-view+json": {
       "model_id": "38f0c95775754e598f13c71120c23ef2",
       "version_major": 2,
       "version_minor": 0
      },
      "text/plain": [
       "HBox(children=(VBox(children=(Button(description='indep-amitious b-b', style=ButtonStyle(button_color='gray'))…"
      ]
     },
     "metadata": {},
     "output_type": "display_data"
    }
   ],
   "source": [
    "w_b = gen_chart(words_b, color_dict[\"words_b\"])\n",
    "display(w_b, \"BLACK\")"
   ]
  },
  {
   "cell_type": "code",
   "execution_count": 54,
   "id": "53cbd727",
   "metadata": {},
   "outputs": [
    {
     "name": "stdout",
     "output_type": "stream",
     "text": [
      "*RED* perspective alignment chart\n"
     ]
    },
    {
     "data": {
      "application/vnd.jupyter.widget-view+json": {
       "model_id": "bdb4435877b248a3aa3f11b9fd3880ec",
       "version_major": 2,
       "version_minor": 0
      },
      "text/plain": [
       "HBox(children=(VBox(children=(Button(description='liberatd-proactv r-r', style=ButtonStyle(button_color='pink'…"
      ]
     },
     "metadata": {},
     "output_type": "display_data"
    }
   ],
   "source": [
    "w_r = gen_chart(words_r, color_dict[\"words_r\"])\n",
    "display(w_r, \"RED\")"
   ]
  },
  {
   "cell_type": "code",
   "execution_count": 55,
   "id": "9ecf681b",
   "metadata": {},
   "outputs": [
    {
     "name": "stdout",
     "output_type": "stream",
     "text": [
      "*GREEN* perspective alignment chart\n"
     ]
    },
    {
     "data": {
      "application/vnd.jupyter.widget-view+json": {
       "model_id": "a04e1ea754494ca693e435fa608a1f37",
       "version_major": 2,
       "version_minor": 0
      },
      "text/plain": [
       "HBox(children=(VBox(children=(Button(description='humble-honest g-g', style=ButtonStyle(button_color='lightgre…"
      ]
     },
     "metadata": {},
     "output_type": "display_data"
    }
   ],
   "source": [
    "w_g = gen_chart(words_g, color_dict[\"words_g\"])\n",
    "display(w_g, \"GREEN\")"
   ]
  },
  {
   "cell_type": "code",
   "execution_count": 56,
   "id": "07106848",
   "metadata": {},
   "outputs": [
    {
     "name": "stdout",
     "output_type": "stream",
     "text": [
      "*WHITE-BLUE* perspective alignment chart\n"
     ]
    },
    {
     "data": {
      "application/vnd.jupyter.widget-view+json": {
       "model_id": "599e528d9ba94982a8e26ab4e4b4c288",
       "version_major": 2,
       "version_minor": 0
      },
      "text/plain": [
       "HBox(children=(VBox(children=(Button(description='lawful-logical w-u', style=ButtonStyle(button_color='lightbl…"
      ]
     },
     "metadata": {},
     "output_type": "display_data"
    }
   ],
   "source": [
    "w_wu = gen_chart(words_wu, color_dict[\"words_wu\"])\n",
    "display(w_wu, \"WHITE-BLUE\")"
   ]
  },
  {
   "cell_type": "code",
   "execution_count": 57,
   "id": "bc9f6126",
   "metadata": {},
   "outputs": [
    {
     "name": "stdout",
     "output_type": "stream",
     "text": [
      "*BLUE-BLACK* perspective alignment chart\n"
     ]
    },
    {
     "data": {
      "application/vnd.jupyter.widget-view+json": {
       "model_id": "8de851a99d3c4af59b833a3c1519cfee",
       "version_major": 2,
       "version_minor": 0
      },
      "text/plain": [
       "HBox(children=(VBox(children=(Button(description='prgrsv-ambitius u-b', style=ButtonStyle(button_color='lightb…"
      ]
     },
     "metadata": {},
     "output_type": "display_data"
    }
   ],
   "source": [
    "w_ub = gen_chart(words_ub, color_dict[\"words_ub\"])\n",
    "display(w_ub, \"BLUE-BLACK\")"
   ]
  },
  {
   "cell_type": "code",
   "execution_count": 58,
   "id": "652bf4f5",
   "metadata": {},
   "outputs": [
    {
     "name": "stdout",
     "output_type": "stream",
     "text": [
      "*BLACK-RED* perspective alignment chart\n"
     ]
    },
    {
     "data": {
      "application/vnd.jupyter.widget-view+json": {
       "model_id": "3be457df131f49338a1a98bbad70b307",
       "version_major": 2,
       "version_minor": 0
      },
      "text/plain": [
       "HBox(children=(VBox(children=(Button(description='indpndnt-liberatd b-r', style=ButtonStyle(button_color='pink…"
      ]
     },
     "metadata": {},
     "output_type": "display_data"
    }
   ],
   "source": [
    "w_br = gen_chart(words_br, color_dict[\"words_br\"])\n",
    "display(w_br, \"BLACK-RED\")"
   ]
  },
  {
   "cell_type": "code",
   "execution_count": 59,
   "id": "36a1d70f",
   "metadata": {},
   "outputs": [
    {
     "name": "stdout",
     "output_type": "stream",
     "text": [
      "*RED-GREEN* perspective alignment chart\n"
     ]
    },
    {
     "data": {
      "application/vnd.jupyter.widget-view+json": {
       "model_id": "cce0cebefb71424bb5c1e6c2396917ef",
       "version_major": 2,
       "version_minor": 0
      },
      "text/plain": [
       "HBox(children=(VBox(children=(Button(description='valTrut-veekTrut ug', style=ButtonStyle(button_color='lightg…"
      ]
     },
     "metadata": {},
     "output_type": "display_data"
    }
   ],
   "source": [
    "w_rg = gen_chart(words_ug, color_dict[\"words_rg\"])\n",
    "display(w_rg, \"RED-GREEN\")"
   ]
  },
  {
   "cell_type": "code",
   "execution_count": 60,
   "id": "f3a179d2",
   "metadata": {},
   "outputs": [
    {
     "name": "stdout",
     "output_type": "stream",
     "text": [
      "*GREEN-WHITE* perspective alignment chart\n"
     ]
    },
    {
     "data": {
      "application/vnd.jupyter.widget-view+json": {
       "model_id": "96c80c8cc08842db9c0a185cd9ee650e",
       "version_major": 2,
       "version_minor": 0
      },
      "text/plain": [
       "HBox(children=(VBox(children=(Button(description='humble-good g-w', style=ButtonStyle(button_color='lightgreen…"
      ]
     },
     "metadata": {},
     "output_type": "display_data"
    }
   ],
   "source": [
    "w_gw = gen_chart(words_gw, color_dict[\"words_gw\"])\n",
    "display(w_gw, \"GREEN-WHITE\")"
   ]
  },
  {
   "cell_type": "code",
   "execution_count": 61,
   "id": "7abaa409",
   "metadata": {},
   "outputs": [
    {
     "name": "stdout",
     "output_type": "stream",
     "text": [
      "*BLUE-GREEN* perspective alignment chart\n"
     ]
    },
    {
     "data": {
      "application/vnd.jupyter.widget-view+json": {
       "model_id": "0efc0e26e35742789f43d62cbc194271",
       "version_major": 2,
       "version_minor": 0
      },
      "text/plain": [
       "HBox(children=(VBox(children=(Button(description='valTrut-veekTrut ug', style=ButtonStyle(button_color='lightb…"
      ]
     },
     "metadata": {},
     "output_type": "display_data"
    }
   ],
   "source": [
    "w_ug = gen_chart(words_ug, color_dict[\"words_ug\"])\n",
    "display(w_ug, \"BLUE-GREEN\")"
   ]
  },
  {
   "cell_type": "code",
   "execution_count": 62,
   "id": "b7f90368",
   "metadata": {},
   "outputs": [
    {
     "name": "stdout",
     "output_type": "stream",
     "text": [
      "*BLACK_WHITE* perspective alignment chart\n"
     ]
    },
    {
     "data": {
      "application/vnd.jupyter.widget-view+json": {
       "model_id": "b175c6966c5045bfb3f8a800e7e6d22f",
       "version_major": 2,
       "version_minor": 0
      },
      "text/plain": [
       "HBox(children=(VBox(children=(Button(description='discipln-strength bw', style=ButtonStyle(button_color='light…"
      ]
     },
     "metadata": {},
     "output_type": "display_data"
    }
   ],
   "source": [
    "w_bw = gen_chart(words_bw, color_dict[\"words_bw\"])\n",
    "display(w_bw, \"BLACK_WHITE\")"
   ]
  },
  {
   "cell_type": "code",
   "execution_count": 63,
   "id": "d9e987c1",
   "metadata": {},
   "outputs": [
    {
     "name": "stdout",
     "output_type": "stream",
     "text": [
      "*RED_BLUE* perspective alignment chart\n"
     ]
    },
    {
     "data": {
      "application/vnd.jupyter.widget-view+json": {
       "model_id": "624f5379f979457fbbea035805ca9c72",
       "version_major": 2,
       "version_minor": 0
      },
      "text/plain": [
       "HBox(children=(VBox(children=(Button(description='innovatv-interestng ru', style=ButtonStyle(button_color='lig…"
      ]
     },
     "metadata": {},
     "output_type": "display_data"
    }
   ],
   "source": [
    "w_ru = gen_chart(words_ru, color_dict[\"words_ru\"])\n",
    "display(w_ru, \"RED_BLUE\")"
   ]
  },
  {
   "cell_type": "code",
   "execution_count": 64,
   "id": "8567b70c",
   "metadata": {},
   "outputs": [
    {
     "name": "stdout",
     "output_type": "stream",
     "text": [
      "*GREEN_BLACK* perspective alignment chart\n"
     ]
    },
    {
     "data": {
      "application/vnd.jupyter.widget-view+json": {
       "model_id": "56b8d8159c1e44b3a519b00973b4a6fb",
       "version_major": 2,
       "version_minor": 0
      },
      "text/plain": [
       "HBox(children=(VBox(children=(Button(description='flexibl-aware gb', style=ButtonStyle(button_color='lightgree…"
      ]
     },
     "metadata": {},
     "output_type": "display_data"
    }
   ],
   "source": [
    "w_gb = gen_chart(words_gb, color_dict[\"words_gb\"])\n",
    "display(w_gb, \"GREEN_BLACK\")"
   ]
  },
  {
   "cell_type": "code",
   "execution_count": 65,
   "id": "f2fa6061",
   "metadata": {},
   "outputs": [
    {
     "name": "stdout",
     "output_type": "stream",
     "text": [
      "*WHITE-RED* perspective alignment chart\n"
     ]
    },
    {
     "data": {
      "application/vnd.jupyter.widget-view+json": {
       "model_id": "9a0a735cee5b43649581cf7333f42715",
       "version_major": 2,
       "version_minor": 0
      },
      "text/plain": [
       "HBox(children=(VBox(children=(Button(description='brave-honorbl wr', style=ButtonStyle(button_color='pink')), …"
      ]
     },
     "metadata": {},
     "output_type": "display_data"
    }
   ],
   "source": [
    "w_wr = gen_chart(words_wr, color_dict[\"words_wr\"])\n",
    "display(w_wr, \"WHITE-RED\")"
   ]
  },
  {
   "cell_type": "code",
   "execution_count": null,
   "id": "bd3a59f7",
   "metadata": {},
   "outputs": [],
   "source": []
  }
 ],
 "metadata": {
  "kernelspec": {
   "display_name": "Python 3",
   "language": "python",
   "name": "python3"
  },
  "language_info": {
   "codemirror_mode": {
    "name": "ipython",
    "version": 3
   },
   "file_extension": ".py",
   "mimetype": "text/x-python",
   "name": "python",
   "nbconvert_exporter": "python",
   "pygments_lexer": "ipython3",
   "version": "3.8.5"
  }
 },
 "nbformat": 4,
 "nbformat_minor": 5
}
